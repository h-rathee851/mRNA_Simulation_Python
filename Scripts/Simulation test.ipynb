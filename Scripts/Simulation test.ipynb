{
 "cells": [
  {
   "cell_type": "code",
   "execution_count": 1,
   "metadata": {
    "collapsed": true
   },
   "outputs": [],
   "source": [
    "import cProfile,pstats"
   ]
  },
  {
   "cell_type": "code",
   "execution_count": 2,
   "metadata": {},
   "outputs": [],
   "source": [
    "import numpy as np\n",
    "# import pyximport; pyximport.install(setup_args={\n",
    "#                               \"include_dirs\":np.get_include()},\n",
    "#                   reload_support=True)\n",
    "\n",
    "from helper_methods_cy import *\n",
    "from simulation_up_cy import *\n",
    "\n",
    "from scipy.optimize import brentq\n",
    "import math\n",
    "# from simulation_up_cy import *"
   ]
  },
  {
   "cell_type": "code",
   "execution_count": 14,
   "metadata": {},
   "outputs": [],
   "source": [
    "sim = Simulation(1, sweeps= 10000) \n",
    "# file_name = '../'+'elongation-rates/'+'YAL017W_rates.dat'\n",
    "file_name = '../'+'kvalue_dummy.dat'\n",
    "sim.ExtractRates(file_name,0.1,1.4)"
   ]
  },
  {
   "cell_type": "code",
   "execution_count": 4,
   "metadata": {},
   "outputs": [
    {
     "name": "stdout",
     "output_type": "stream",
     "text": [
      "1 loop, best of 3: 6.68 s per loop\n"
     ]
    }
   ],
   "source": [
    "%%timeit\n",
    "sim.Reach_steady()\n",
    "sim.Run_Sim()"
   ]
  },
  {
   "cell_type": "code",
   "execution_count": 3,
   "metadata": {},
   "outputs": [
    {
     "name": "stdout",
     "output_type": "stream",
     "text": [
      "1 loop, best of 3: 6.53 s per loop\n"
     ]
    }
   ],
   "source": [
    "%%timeit\n",
    "sim.Reach_steady()\n",
    "sim.Run_Sim()"
   ]
  },
  {
   "cell_type": "code",
   "execution_count": 3,
   "metadata": {},
   "outputs": [
    {
     "name": "stdout",
     "output_type": "stream",
     "text": [
      "1 loop, best of 3: 6.46 s per loop\n"
     ]
    }
   ],
   "source": [
    "%%timeit\n",
    "sim.Reach_steady()\n",
    "sim.Run_Sim()"
   ]
  },
  {
   "cell_type": "code",
   "execution_count": 10,
   "metadata": {
    "collapsed": true
   },
   "outputs": [],
   "source": [
    "sim = Simulation(1, sweeps= 10000) \n",
    "# file_name = '../'+'elongation-rates/'+'YAL017W_rates.dat'\n",
    "file_name = '../'+'kvalue_dummy.dat'\n",
    "sim.ExtractRates(file_name,0.1,0.9)\n"
   ]
  },
  {
   "cell_type": "code",
   "execution_count": 15,
   "metadata": {},
   "outputs": [],
   "source": [
    "sim.Reach_steady()\n",
    "sim.Run_Sim()"
   ]
  },
  {
   "cell_type": "code",
   "execution_count": 5,
   "metadata": {
    "collapsed": true
   },
   "outputs": [],
   "source": [
    "import matplotlib.pyplot as plt\n"
   ]
  },
  {
   "cell_type": "code",
   "execution_count": 16,
   "metadata": {},
   "outputs": [
    {
     "data": {
      "image/png": "[encoded data removed]",
      "text/plain": [
       "<matplotlib.figure.Figure at 0x119eaeb00>"
      ]
     },
     "metadata": {},
     "output_type": "display_data"
    }
   ],
   "source": [
    "plt.plot(np.arange(0,len(sim.rho_)),sim.rho_)\n",
    "plt.ylim(0,.12)\n",
    "plt.xlabel(r\"mRNA site$\\alpha$\")\n",
    "plt.ylabel(\"Ribosome density at each site\")\n",
    "plt.title(\"Ribosome Density Profile \")\n",
    "plt.show()"
   ]
  },
  {
   "cell_type": "code",
   "execution_count": 17,
   "metadata": {},
   "outputs": [
    {
     "data": {
      "text/plain": [
       "array([0.10149973, 0.09892875, 0.10047404, 0.10163006, 0.10074318,\n",
       "       0.09801756, 0.10005868, 0.0988483 , 0.09873145, 0.09714507,\n",
       "       0.09997285, 0.09658696, 0.10056344, 0.09979149, 0.10157894,\n",
       "       0.09998956, 0.09997776, 0.09976236, 0.09920215, 0.09909806,\n",
       "       0.1003918 , 0.10228557, 0.09958259, 0.09903672, 0.09841912,\n",
       "       0.10014104, 0.09912448, 0.10056566, 0.10038357, 0.10050744,\n",
       "       0.10068666, 0.09893997, 0.09863177, 0.10136713, 0.09990308,\n",
       "       0.09997249, 0.09961897, 0.09791835, 0.09979899, 0.09883056,\n",
       "       0.10020944, 0.09904809, 0.10014437, 0.09900227, 0.10021898,\n",
       "       0.09950992, 0.09923927, 0.10015601, 0.09990227, 0.09974904,\n",
       "       0.09963662, 0.1013654 , 0.09946203, 0.09971141, 0.09820157,\n",
       "       0.09870398, 0.10010483, 0.09903783, 0.0994118 , 0.0990929 ,\n",
       "       0.10145531, 0.10217129, 0.10112105, 0.09765237, 0.1009272 ,\n",
       "       0.09915047, 0.09991479, 0.09968203, 0.0992589 , 0.09940487,\n",
       "       0.09903651, 0.10013969, 0.10131349, 0.09909736, 0.10052898,\n",
       "       0.09935704, 0.10063411, 0.09923833, 0.10021094, 0.09969272,\n",
       "       0.10054211, 0.09909625, 0.09961172, 0.09946374, 0.09718627,\n",
       "       0.09729835, 0.10064948, 0.10076466, 0.09833761, 0.09959264,\n",
       "       0.09844513, 0.09923397, 0.10019086, 0.10042549, 0.09957523,\n",
       "       0.09879048, 0.10010189, 0.09997658, 0.09820626, 0.09930001,\n",
       "       0.10033162, 0.09862556, 0.10001654, 0.09973898, 0.09961085,\n",
       "       0.1001769 , 0.10096181, 0.09987766, 0.09885501, 0.0991755 ,\n",
       "       0.09999573, 0.10128493, 0.09895369, 0.10083437, 0.09907936,\n",
       "       0.09972657, 0.09742422, 0.09968885, 0.09934701, 0.10012523,\n",
       "       0.09911419, 0.10124072, 0.09901597, 0.10158701, 0.09957163,\n",
       "       0.09924599, 0.09965841, 0.10014165, 0.10202719, 0.10257158,\n",
       "       0.10052777, 0.09844471, 0.10023372, 0.1011263 , 0.09999827,\n",
       "       0.09968072, 0.09817621, 0.09936824, 0.09791961, 0.09953496,\n",
       "       0.10131095, 0.10138351, 0.09929123, 0.09913614, 0.09910177,\n",
       "       0.09887496, 0.09970087, 0.10081409, 0.0999693 , 0.09863917,\n",
       "       0.0998628 , 0.10038932, 0.10082306, 0.10283628, 0.10213877,\n",
       "       0.10276742, 0.10005811, 0.09889729, 0.10063637, 0.10109837,\n",
       "       0.09993598, 0.10114931, 0.09933242, 0.10022979, 0.09887583,\n",
       "       0.09811329, 0.09931419, 0.09978901, 0.09972745, 0.09907393,\n",
       "       0.10055406, 0.10029067, 0.10207215, 0.10014637, 0.09969194,\n",
       "       0.09949793, 0.09927065, 0.09927477, 0.09930416, 0.10068509,\n",
       "       0.10048306, 0.09849179, 0.09828509, 0.1001702 , 0.10017659,\n",
       "       0.09877799, 0.10181353, 0.09833371, 0.10002279, 0.09895828,\n",
       "       0.10212779, 0.10073315, 0.10136207, 0.09798444, 0.09789367,\n",
       "       0.10021794, 0.10076599, 0.09976713, 0.09297839, 0.06510934])"
      ]
     },
     "execution_count": 17,
     "metadata": {},
     "output_type": "execute_result"
    }
   ],
   "source": [
    "sim.rho_"
   ]
  },
  {
   "cell_type": "code",
   "execution_count": 7,
   "metadata": {},
   "outputs": [
    {
     "name": "stdout",
     "output_type": "stream",
     "text": [
      "Tue Mar 26 14:45:43 2019    Profile.prof\n",
      "\n",
      "         5109655 function calls in 9.403 seconds\n",
      "\n",
      "   Random listing order was used\n",
      "\n",
      "   ncalls  tottime  percall  cumtime  percall filename:lineno(function)\n",
      "   131019    0.026    0.000    0.026    0.000 {method 'insert' of 'list' objects}\n",
      "        1    0.000    0.000    9.403    9.403 {built-in method builtins.exec}\n",
      "   393039    0.075    0.000    0.075    0.000 {built-in method builtins.isinstance}\n",
      "   786114    0.072    0.000    0.072    0.000 {built-in method builtins.len}\n",
      "   131019    0.066    0.000    0.066    0.000 {built-in method builtins.sorted}\n",
      "   262038    0.027    0.000    0.027    0.000 {built-in method _operator.index}\n",
      "        1    0.000    0.000    0.000    0.000 {method 'disable' of '_lsprof.Profiler' objects}\n",
      "   393039    0.101    0.000    0.303    0.000 /Users/harshrathee/anaconda/lib/python3.6/site-packages/numpy/core/numeric.py:424(asarray)\n",
      "   262029    0.036    0.000    0.036    0.000 {method 'item' of 'numpy.ndarray' objects}\n",
      "   131019    0.046    0.000    0.046    0.000 {method 'transpose' of 'numpy.ndarray' objects}\n",
      "   655077    0.443    0.000    0.443    0.000 {built-in method numpy.core.multiarray.array}\n",
      "   262029    0.121    0.000    0.121    0.000 {built-in method numpy.core.multiarray.empty}\n",
      "   393048    0.091    0.000    0.091    0.000 {built-in method numpy.core.multiarray.normalize_axis_index}\n",
      "   524076    0.105    0.000    0.159    0.000 /Users/harshrathee/anaconda/lib/python3.6/site-packages/numpy/core/numeric.py:1506(<genexpr>)\n",
      "   262038    0.476    0.000    0.715    0.000 /Users/harshrathee/anaconda/lib/python3.6/site-packages/numpy/core/numeric.py:1459(normalize_axis_tuple)\n",
      "   131019    0.027    0.000    0.027    0.000 /Users/harshrathee/anaconda/lib/python3.6/site-packages/numpy/core/numeric.py:1577(<listcomp>)\n",
      "   131019    0.396    0.000    1.296    0.000 /Users/harshrathee/anaconda/lib/python3.6/site-packages/numpy/core/numeric.py:1515(moveaxis)\n",
      "   131010    0.757    0.000    1.152    0.000 /Users/harshrathee/anaconda/lib/python3.6/site-packages/numpy/lib/function_base.py:4703(delete)\n",
      "   131019    0.954    0.000    2.669    0.000 /Users/harshrathee/anaconda/lib/python3.6/site-packages/numpy/lib/function_base.py:4908(insert)\n",
      "        1    5.582    5.582    9.403    9.403 {method 'Reach_steady' of 'Cython_building.simulation_up_cy.Simulation' objects}\n",
      "        1    0.000    0.000    9.403    9.403 <string>:1(<module>)\n",
      "\n",
      "\n"
     ]
    },
    {
     "data": {
      "text/plain": [
       "<pstats.Stats at 0x10314d128>"
      ]
     },
     "execution_count": 7,
     "metadata": {},
     "output_type": "execute_result"
    }
   ],
   "source": [
    "cProfile.runctx(\"sim.Reach_steady()\", globals(), locals(), \"Profile.prof\")\n",
    "\n",
    "s = pstats.Stats(\"Profile.prof\")\n",
    "s.print_stats()"
   ]
  },
  {
   "cell_type": "code",
   "execution_count": 19,
   "metadata": {
    "collapsed": true
   },
   "outputs": [],
   "source": [
    "import numba\n",
    "from numba import jit\n",
    "import array"
   ]
  },
  {
   "cell_type": "code",
   "execution_count": 22,
   "metadata": {
    "collapsed": true
   },
   "outputs": [],
   "source": [
    "@jit\n",
    "def test():\n",
    "    a = array.array('i',[1,2,3,4])\n",
    "    \n",
    "    for i in range(2000):\n",
    "        \n",
    "        a.insert(1,2)\n",
    "    "
   ]
  },
  {
   "cell_type": "code",
   "execution_count": 23,
   "metadata": {},
   "outputs": [
    {
     "name": "stdout",
     "output_type": "stream",
     "text": [
      "The slowest run took 261.51 times longer than the fastest. This could mean that an intermediate result is being cached.\n",
      "1000 loops, best of 3: 562 µs per loop\n"
     ]
    }
   ],
   "source": [
    "%timeit test()"
   ]
  },
  {
   "cell_type": "code",
   "execution_count": 16,
   "metadata": {
    "collapsed": true
   },
   "outputs": [],
   "source": []
  },
  {
   "cell_type": "code",
   "execution_count": 17,
   "metadata": {},
   "outputs": [
    {
     "data": {
      "text/plain": [
       "[5, 1, 2, 3]"
      ]
     },
     "execution_count": 17,
     "metadata": {},
     "output_type": "execute_result"
    }
   ],
   "source": []
  },
  {
   "cell_type": "code",
   "execution_count": 24,
   "metadata": {
    "collapsed": true
   },
   "outputs": [],
   "source": [
    "%load_ext Cython"
   ]
  },
  {
   "cell_type": "code",
   "execution_count": 36,
   "metadata": {
    "collapsed": true
   },
   "outputs": [],
   "source": [
    "# %%cython\n",
    "\n",
    "def test_2():\n",
    "    \n",
    "#     cdef int i \n",
    "    for i in range(2000*500):\n",
    "        pass\n",
    "\n"
   ]
  },
  {
   "cell_type": "code",
   "execution_count": 37,
   "metadata": {},
   "outputs": [
    {
     "name": "stdout",
     "output_type": "stream",
     "text": [
      "10 loops, best of 3: 19.1 ms per loop\n"
     ]
    }
   ],
   "source": [
    "%timeit test_2()"
   ]
  },
  {
   "cell_type": "code",
   "execution_count": 5,
   "metadata": {},
   "outputs": [
    {
     "ename": "TypeError",
     "evalue": "unsupported operand type(s) for /: 'array.array' and 'int'",
     "output_type": "error",
     "traceback": [
      "\u001b[0;31m---------------------------------------------------------------------------\u001b[0m",
      "\u001b[0;31mTypeError\u001b[0m                                 Traceback (most recent call last)",
      "\u001b[0;32m<ipython-input-5-6234134d68d6>\u001b[0m in \u001b[0;36m<module>\u001b[0;34m()\u001b[0m\n\u001b[1;32m      1\u001b[0m \u001b[0ma\u001b[0m \u001b[0;34m=\u001b[0m \u001b[0marray\u001b[0m\u001b[0;34m.\u001b[0m\u001b[0marray\u001b[0m\u001b[0;34m(\u001b[0m\u001b[0;34m'i'\u001b[0m\u001b[0;34m,\u001b[0m\u001b[0;34m[\u001b[0m\u001b[0;36m1\u001b[0m\u001b[0;34m,\u001b[0m\u001b[0;36m2\u001b[0m\u001b[0;34m,\u001b[0m\u001b[0;36m3\u001b[0m\u001b[0;34m]\u001b[0m\u001b[0;34m)\u001b[0m\u001b[0;34m\u001b[0m\u001b[0;34m\u001b[0m\u001b[0m\n\u001b[1;32m      2\u001b[0m \u001b[0;34m\u001b[0m\u001b[0m\n\u001b[0;32m----> 3\u001b[0;31m \u001b[0ma\u001b[0m\u001b[0;34m/\u001b[0m\u001b[0;36m2\u001b[0m\u001b[0;34m\u001b[0m\u001b[0;34m\u001b[0m\u001b[0m\n\u001b[0m",
      "\u001b[0;31mTypeError\u001b[0m: unsupported operand type(s) for /: 'array.array' and 'int'"
     ]
    }
   ],
   "source": []
  },
  {
   "cell_type": "code",
   "execution_count": 1,
   "metadata": {},
   "outputs": [
    {
     "name": "stderr",
     "output_type": "stream",
     "text": [
      "ERROR:root:Cell magic `%%cython` not found.\n"
     ]
    }
   ],
   "source": []
  },
  {
   "cell_type": "code",
   "execution_count": 49,
   "metadata": {},
   "outputs": [
    {
     "name": "stdout",
     "output_type": "stream",
     "text": [
      "10 loops, best of 3: 62.2 ms per loop\n"
     ]
    }
   ],
   "source": []
  },
  {
   "cell_type": "code",
   "execution_count": null,
   "metadata": {
    "collapsed": true
   },
   "outputs": [],
   "source": []
  }
 ],
 "metadata": {
  "kernelspec": {
   "display_name": "Python 3",
   "language": "python",
   "name": "python3"
  },
  "language_info": {
   "codemirror_mode": {
    "name": "ipython",
    "version": 3
   },
   "file_extension": ".py",
   "mimetype": "text/x-python",
   "name": "python",
   "nbconvert_exporter": "python",
   "pygments_lexer": "ipython3",
   "version": "3.6.8"
  }
 },
 "nbformat": 4,
 "nbformat_minor": 2
}
