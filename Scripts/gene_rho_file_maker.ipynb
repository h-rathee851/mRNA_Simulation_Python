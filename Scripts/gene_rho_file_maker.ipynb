{
 "cells": [
  {
   "cell_type": "code",
   "execution_count": 1,
   "metadata": {
    "collapsed": true
   },
   "outputs": [],
   "source": [
    "def MakeGeneFile(infile,low_codon_lim,up_codon_lim):\n",
    "    \n",
    "    filein = open(infile,'r')\n",
    "    outfile_name = infile[:-4]+'_'+str(up_codon_lim)+'.dat'\n",
    "    fileout = open(outfile_name,'w')\n",
    "    \n",
    "    lines = filein.readlines()\n",
    "    \n",
    "    for line in lines:\n",
    "        \n",
    "        data = line.split(',')\n",
    "        \n",
    "        if int(data[2]) > low_codon_lim and int(data[2]) <= up_codon_lim:\n",
    "            if '#' not in data[3]:\n",
    "                fileout.write(line)\n",
    "                \n",
    "    \n",
    "    filein.close()\n",
    "    fileout.close()\n"
   ]
  },
  {
   "cell_type": "code",
   "execution_count": 2,
   "metadata": {
    "collapsed": true
   },
   "outputs": [],
   "source": [
    "MakeGeneFile('../rho_alpha_data.dat',450,1000)"
   ]
  },
  {
   "cell_type": "code",
   "execution_count": null,
   "metadata": {
    "collapsed": true
   },
   "outputs": [],
   "source": []
  }
 ],
 "metadata": {
  "kernelspec": {
   "display_name": "Python 3",
   "language": "python",
   "name": "python3"
  },
  "language_info": {
   "codemirror_mode": {
    "name": "ipython",
    "version": 3
   },
   "file_extension": ".py",
   "mimetype": "text/x-python",
   "name": "python",
   "nbconvert_exporter": "python",
   "pygments_lexer": "ipython3",
   "version": "3.6.8"
  }
 },
 "nbformat": 4,
 "nbformat_minor": 2
}
